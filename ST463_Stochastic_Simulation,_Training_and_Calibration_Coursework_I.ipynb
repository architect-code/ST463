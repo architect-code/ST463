{
  "nbformat": 4,
  "nbformat_minor": 0,
  "metadata": {
    "colab": {
      "provenance": [],
      "toc_visible": true,
      "include_colab_link": true
    },
    "kernelspec": {
      "name": "python3",
      "display_name": "Python 3"
    },
    "language_info": {
      "name": "python"
    }
  },
  "cells": [
    {
      "cell_type": "markdown",
      "metadata": {
        "id": "view-in-github",
        "colab_type": "text"
      },
      "source": [
        "<a href=\"https://colab.research.google.com/github/architect-code/ST463/blob/main/ST463_Stochastic_Simulation%2C_Training_and_Calibration_Coursework_I.ipynb\" target=\"_parent\"><img src=\"https://colab.research.google.com/assets/colab-badge.svg\" alt=\"Open In Colab\"/></a>"
      ]
    },
    {
      "cell_type": "markdown",
      "source": [
        "#ST463 - Stochastic Simulation, Training and Calibration: Coursework I\n",
        "\n",
        "Some general remarks about the exercises:\n",
        "*   If useful, feel free to reuse functions from the lecture without copying them to the exercise solution box; namely, copy them under the text **Code from the lectures** below.\n",
        "*   You **must** make your code readable by humans (and not just by the Python interpreter): choose informative function and variable names and use consistent formatting. Feel free to check the [PEP 8 Style Guide for Python](https://www.python.org/dev/peps/pep-0008/) for the widely adopted coding conventions or [this guide for explanation](https://realpython.com/python-pep8/).\n",
        "*   In addition to the previous point, you **must** write a paragraph before each function that explaines what the function will do. Just add a `Text` type cell.      \n",
        "*   If it is more convenient for you, you can submit in a `.pdf` file your comments and theorethical answers; **Important**: name the file as `ST463 - Coursework I - your candidate numbers separated by a comma.pdf` (see also below). In any case, you **must** submit a `.pdf` file named as before where you copy your Google Colab link; **Important**: make sure that when you share the link you select the option `Anyone with the link` and the role of `Editor`; you can also use a local Python file, if you prefer. **Important**: Submit also a `.pdf` with a printed copy of your work: you can do this by selecting `File > Print` in the jupyter menu.\n",
        "*   Make sure that the full notebook runs without errors before submitting your work. This you can do by selecting `Kernel > Restart & Run All` in the jupyter menu. **Important**: this is not a programming course, so the important thing is that the code is correct."
      ],
      "metadata": {
        "id": "Xqg_C1JhxDDA"
      }
    },
    {
      "cell_type": "markdown",
      "source": [
        "Please enter your **candidate numbers** separated by a comma (11, 22 is just an example). **Important**: Marking will be conducted **anonymously**; please do not include your name on any part of the report. Read also the **Course Information** on Moodle."
      ],
      "metadata": {
        "id": "XBCiWx0D7Qfq"
      }
    },
    {
      "cell_type": "code",
      "execution_count": null,
      "metadata": {
        "id": "Lh3_UOCPuReN"
      },
      "outputs": [],
      "source": [
        "CANDIDATE_NUMBERS = 11, 22"
      ]
    },
    {
      "cell_type": "markdown",
      "source": [
        "**Code from the lectures**:"
      ],
      "metadata": {
        "id": "l3xKaapi_FiN"
      }
    },
    {
      "cell_type": "code",
      "source": [
        "# Copy here any code from the lectures."
      ],
      "metadata": {
        "id": "WvoRcpu7_MKt"
      },
      "execution_count": null,
      "outputs": []
    },
    {
      "cell_type": "markdown",
      "source": [
        "## Exercise I: The pebble game 2.0 [Total: 25 Marks]\n",
        "In the first lecture, we studied the (direct) sampling problem in the so-called **pebble game**; in particular, samples were generated **independently**. A more **versatile** technique is to generate samples sequentially in a way that only depends on the previous sample (and not the full history of samples).\n",
        "\n",
        "The goal of this exercise is the same: the children wish to sample random positions in the square by throwing pebbles. This time however the square with inscribed circle is much larger (let’s say the children moved to the local park), and extends beyond the range of a child’s throw. Assume that a single child is playing the game. She/he start in some predetermined corner of the square with a bag full of pebbles.  With closed eyes she/he throws the first pebble in a random direction and then she/he walks to where it has landed, but not touching it. From that position a new pebble is thrown and the procedure repeats. The goal is still to **evenly** sample from the square in order to estimate the constant $\\pi$.\n",
        "\n",
        "Now a problem arises when a pebble lands outside of the square. We model the throw of a pebble by a random displacement within a disk of radius $δ=0.4$.\n",
        "\n",
        "\n",
        "1.   **Simulate** the following first version of the game: \"the child discards any pebbles that end up outside of the square and stays in place before throwing the next\". Comment on the estimate of $\\pi$ that you find and plot an histogram (see the Python function `hist2d`) of trials in the square. How is the density near the boundary compared to the central region? What does this mean? **[7 Marks]**\n",
        "\n",
        "2.   **Simulate** the following second version of the game: \"in case of an out-of-range throw the child does not discard the pebble, but she/he retrieves it and deposits it at the location from where it was thrown before continuing to throw the next pebble\". We call this a **rejection**. Comment on the estimate of $\\pi$ that you find and plot an histogram (see, again, the Python function `hist2d`) of trials in the square. How is the density near the boundary compared to the central region? What does this mean? **[7 Marks]**\n",
        "\n",
        "3.   Estimate the mean square deviation $\\mathbb{E}\\left[\\left(\\frac{4 ⋅ \\text{hits}}{\\text{trials}}-\\pi\\right)^2\\right]$ from $\\pi$ for different values of $δ$ ranging between $0$ and $3$, but fixed number of trials (say, $2000$). For a decent estimate of the mean you will need at least $100$ repetitions. Comment on the result. **[4 Marks]**\n",
        "\n",
        "4.   Measure the rejection rate for the same simulations as in 3.**[3 Marks]**\n",
        "\n",
        "5.   Plot both the mean square deviation and the rejection rate as function of $δ$. Comment on the result.**[4 Marks]**\n",
        "\n",
        "\n"
      ],
      "metadata": {
        "id": "79cDIZAFAOSA"
      }
    },
    {
      "cell_type": "markdown",
      "source": [
        "## Exercise II: Monte Carlo Integration and Importance Sampling [Total: 10 Marks]\n",
        "\n",
        "Consider the integral\n",
        "\n",
        "\\begin{equation}\n",
        "    I = \\int_0^1 \\sin(\\pi x(1-x))\\mathrm{d}x = \\mathbb{E}[X], \\quad X=g(U), \\quad g(U)=\\sin(\\pi U(1-U))\n",
        "\\end{equation}\n",
        "\n",
        "where $U$ is a uniform random variable in $(0,1)$.\n",
        "\n",
        "\n",
        "\n",
        "1.   Use Monte Carlo integration based on sampling $U$ to estimate $I$ with $1\\sigma$ error at most $0.001$. How many samples do you need? (It is not necessary to automate this: trial and error is sufficient.) **[5 Marks]**\n",
        "2.   Choose a random variable $Z$ on $(0,1)$ whose density resembles the integrand of $I$ and which you know how to sample efficiently (by inversion method, acceptance-rejection, or a built-in Python function). Estimate $I$ again using importance sampling, i.e. $I = \\mathbb{E}[X']$ where $X' = g(Z) f_U(Z)/f_Z(Z)$, with an error of at most 0.001. How many samples did you need this time? Comment on the result. **[5 Marks]**\n",
        "\n"
      ],
      "metadata": {
        "id": "CHNdAQdHKUVw"
      }
    },
    {
      "cell_type": "markdown",
      "source": [
        "##Exercise III: Monte Carlo Simulation and Confidence Intervals [Total:25]\n",
        "\n",
        "Let $U$ be uniformly distributed on $[0,1]$. You have to use Monte Carlo simulation to estimate the value of:\n",
        "\\begin{equation}\n",
        "    \\bar{f} = \\mathbb{E}[f(U)],\n",
        "\\end{equation}\n",
        "where $f(x)=x \\cos(\\pi x)$.\n",
        "\n",
        "\n",
        "\n",
        "1.   Calculate analytically the exact value for $\\bar{f}$ and $σ^2=\\mathbb{E}[(f(U)-\\bar{f})^2]$; show all the steps. **[4 Marks]**\n",
        "2.   Write a Python function which computes\n",
        "\\begin{equation}\n",
        "    Y_m = \\frac{1}{N}\\sum_{n=1}^{N} f(U^{(m,n)})\n",
        "\\end{equation}\n",
        "for $1000$ different sets of $1000$ independent random variables $U^{(m,n)}$. **[4 Marks]**\n",
        "3. Sort the $Y_m$ into ascending order, and then plot $C_m = (m-1/2)/1000$ versus $Y_m$ - this is the numerical cumulative distribution function. Superimpose on the same plot the cumulative distribution function you\n",
        "would expect from the Central Limit Theorem and comment on your results. You may like to experiment by trying larger or smaller sets of points to\n",
        "improve your understanding of the asymptotic behaviour described by\n",
        "the CLT. **[5 Marks]**\n",
        "\n",
        "4. Modify your code to use a single set of $10^{6}$ random numbers, and plot\n",
        "\\begin{equation}\n",
        "    Y_{N} = N^{-1} \\sum_{n=1}^{N} f(U^{(n)})\n",
        "\\end{equation}\n",
        "\n",
        "versus $N$ for $N = 10^{3} - 10^{6}$.  This should demonstrate the convergence to the true value predicted by the Strong Law of Large Numbers. For each $N$, also compute an unbiased estimate for the variance $\\sigma^2$ and hence add to the plot upper and lower confidence bounds based on 3 standard deviations of the variation in the mean. Add a line corresponding to the true value. Does this lie inside the bounds?**[5 Marks]**\n",
        "\n",
        "5. Repeat points 1-4 for a European Call option in which the final value of the underlying is\n",
        "\n",
        "\\begin{equation}\n",
        "    S(T) = S(0) \\exp\\left((r-\\frac{1}{2}\\sigma^2)T + \\sigma W(T)\\right)\n",
        "\\end{equation}\n",
        "\n",
        "where $W(T)=\\sqrt{T} X = \\sqrt{T} Φ^{-1}(U)$, with $X$ being a unit Normal or $U$ a uniform $(0, 1)$ random variable. The payoff function is $f(s) = \\exp(-r T)(S(T)-K)^{+}$ and the constants are $r = 0.05, \\sigma=0.2, S(0)=100, K=100$.\n",
        "\n",
        "There is no need to compute the analytic variance in part 1.; just use the\n",
        "unbiased estimator when plotting the CLT prediction in part 4. The code for computing the price of the European Call option is provided here below.**[7 Marks]**\n"
      ],
      "metadata": {
        "id": "zKwsluD_-1tm"
      }
    },
    {
      "cell_type": "code",
      "source": [
        "import numpy as np\n",
        "\n",
        "from numpy       import pi, sqrt, log, exp\n",
        "from scipy.stats import norm\n",
        "\n",
        "#\n",
        "# Normal cumulative distribution function, with extension\n",
        "# for complex argument with small imaginary component\n",
        "#\n",
        "\n",
        "def norm_cdf(x):\n",
        "    if not isinstance(x, np.ndarray):\n",
        "        xr = x.real\n",
        "        xi = x.imag\n",
        "        if abs(xi) > 1.0e-10:\n",
        "            raise ValueError('imag(x) too large in norm_cdf(x)')\n",
        "\n",
        "        ncf = norm.cdf(xr)\n",
        "        if abs(xi) > 0:\n",
        "            ncf = ncf + 1.0j*xi*norm.pdf(xr)\n",
        "    else:\n",
        "        xr = np.real(x)\n",
        "        xi = np.imag(x)\n",
        "        if any(abs(xi) > 1.0e-10):\n",
        "            raise ValueError('imag(x) too large in norm_cdf(x)')\n",
        "\n",
        "        ncf = norm.cdf(xr)\n",
        "        if any(abs(xi) > 0):\n",
        "            ncf = ncf + 1.0j*xi*norm.pdf(xr)\n",
        "\n",
        "    return ncf\n",
        "\n",
        "# V = european_call(r,sigma,T,S,K,opt)\n",
        "#\n",
        "# Black-Scholes European call option solution\n",
        "# as defined in equation (3.17) on page 48 of\n",
        "# The Mathematics of Financial Derivatives\n",
        "# by Wilmott, Howison and Dewynne\n",
        "#\n",
        "# r     - interest rate\n",
        "# sigma - volatility\n",
        "# T     - time interval\n",
        "# S     - asset value(s)  (float or flattened numpy array)\n",
        "# K     - strike price(s) (float or flattened numpy array)\n",
        "# opt   - 'value', 'delta', 'gamma' or 'vega'\n",
        "# V     - option value(s) (float or flattened numpy array)\n",
        "#\n",
        "\n",
        "def european_call(r,sigma,T,S,K,opt):\n",
        "\n",
        "    S  = S + 1.0e-100     # avoids problems with S=0\n",
        "    K  = K + 1.0e-100     # avoids problems with K=0\n",
        "\n",
        "    d1 = ( log(S) - log(K) + (r+0.5*sigma**2)*T ) / (sigma*sqrt(T))\n",
        "    d2 = ( log(S) - log(K) + (r-0.5*sigma**2)*T ) / (sigma*sqrt(T))\n",
        "\n",
        "    if opt == 'value':\n",
        "        V = S*norm_cdf(d1) - exp(-r*T)*K*norm_cdf(d2)\n",
        "    elif opt == 'delta':\n",
        "        V = norm_cdf(d1)\n",
        "    elif opt == 'gamma':\n",
        "        V = exp(-0.5*d1**2) / (sigma*sqrt(2*pi*T)*S)\n",
        "    elif opt == 'vega':\n",
        "        V =             S*(exp(-0.5*d1**2)/sqrt(2*pi))*( sqrt(T)-d1/sigma) \\\n",
        "            - exp(-r*T)*K*(exp(-0.5*d2**2)/sqrt(2*pi))*(-sqrt(T)-d2/sigma)\n",
        "\n",
        "    else:\n",
        "        raise ValueError('invalid value for opt -- must be \"value\", \"delta\", \"gamma\", \"vega\"')\n",
        "\n",
        "    return V"
      ],
      "metadata": {
        "id": "DKdZrXduQpQY"
      },
      "execution_count": null,
      "outputs": []
    },
    {
      "cell_type": "markdown",
      "source": [
        "## Exercise IV: Expected shortfall (see https://en.wikipedia.org/wiki/Expected_shortfall for the formal definition) analysis [15 Marks]\n",
        "\n",
        "\n",
        "\n",
        "1.   Download stock data using `y_finance` (no constraint on the Python's version used), sample stock tickers: [AAPL, META, C, DIS], from January 1, 2018 to January 1, 2023, compute the percentage returns, plot the four downloaded time-series in a unique figure, and perform a statistical analysis (see Lecture IV) four downloaded time-series.**[5 Marks]**.\n",
        "2.   Construct a equally weighted portfolio with the four assets and suppose that the initial portfolio value is $100000$ unit of the considered currency. Compute the Expected shortfall of your portfolio at $95 \\%$ confidence level with the three methodologies Historical, Parametric, Monte Carlo Simulation, and plot your results.**[10 Marks]**. In particular:\n",
        "\n",
        "\n",
        "*   Historical method. Assumption: future returns will follow a similar distribution to historical returns. Therefore, no specific distribution for the portfolio returns.\n",
        "*   Parametric method. Assumption: returns follow a normal distribution.\n",
        "*   Monte Carlo Simulation. Assumption: future returns of the portfolio follow a multivariate normal distribution, which may not be true in reality.\n",
        "\n",
        "\n",
        "\n",
        "\n"
      ],
      "metadata": {
        "id": "FRxj-nNfSRZE"
      }
    },
    {
      "cell_type": "markdown",
      "source": [
        "## Exercise V: MNIST GAN - Learn to generate MNIST digits [20 Marks]\n",
        "The goal of this exercise is to learn to generate MNIST digits, which are $28 \\times 28$ grayscale images of the $10$ digits. The exercise will be partially guided. Please comment on your reasoning when writing the code."
      ],
      "metadata": {
        "id": "n2NVInkAsV8M"
      }
    },
    {
      "cell_type": "code",
      "source": [
        "# Import the necessary libraries\n",
        "from keras.datasets import mnist\n",
        "from keras.models import Sequential, Model\n",
        "from keras.layers import Input, Dense, Dropout, Activation, Flatten\n",
        "from keras.layers import LeakyReLU\n",
        "from keras.optimizers import Adam, RMSprop\n",
        "import numpy as np\n",
        "import matplotlib.pyplot as plt\n",
        "import random\n",
        "from tqdm import tqdm_notebook\n",
        "\n",
        "# Import the dataset of 60,000 28x28 grayscale images of the 10 digits, along with a test set of 10,000 images.\n",
        "(X_train, Y_train), (X_test, Y_test) = mnist.load_data()"
      ],
      "metadata": {
        "id": "v9VtKduqf06F",
        "colab": {
          "base_uri": "https://localhost:8080/"
        },
        "outputId": "a77c619c-fad8-486a-a2f8-58366aed3a79"
      },
      "execution_count": null,
      "outputs": [
        {
          "output_type": "stream",
          "name": "stdout",
          "text": [
            "Downloading data from https://storage.googleapis.com/tensorflow/tf-keras-datasets/mnist.npz\n",
            "\u001b[1m11490434/11490434\u001b[0m \u001b[32m━━━━━━━━━━━━━━━━━━━━\u001b[0m\u001b[37m\u001b[0m \u001b[1m0s\u001b[0m 0us/step\n"
          ]
        }
      ]
    },
    {
      "cell_type": "markdown",
      "source": [
        "The following code rescales data since we are using ReLU activations. Why?"
      ],
      "metadata": {
        "id": "GHCgnyW7hLjM"
      }
    },
    {
      "cell_type": "code",
      "source": [
        "X_train = X_train.reshape(60000, 784)\n",
        "X_test  = X_test.reshape(10000, 784)\n",
        "X_train = X_train.astype('float32')/255\n",
        "X_test  = X_test.astype('float32')/255"
      ],
      "metadata": {
        "id": "eO0v_VpDh5tv"
      },
      "execution_count": null,
      "outputs": []
    },
    {
      "cell_type": "markdown",
      "source": [
        "Set the noise dimension. Play around with different noise dimensions and plot the performance with respect to the size of the noise vector."
      ],
      "metadata": {
        "id": "cSyhsuvFiPVe"
      }
    },
    {
      "cell_type": "code",
      "source": [
        "z_dim = 100"
      ],
      "metadata": {
        "id": "BW8zzABlieCn"
      },
      "execution_count": null,
      "outputs": []
    },
    {
      "cell_type": "markdown",
      "source": [
        "**Build the model**\n",
        "\n",
        "We are using LeakyReLU activations, which is defined for you below.\n",
        "\n",
        "You will build\n",
        "\n",
        "a.) Generator b.) Discriminator c.) GAN\n",
        "\n",
        "as feedforwards with multiple layers, dropout and LeakyReLU."
      ],
      "metadata": {
        "id": "LFGmxCyOidD3"
      }
    },
    {
      "cell_type": "code",
      "source": [
        "def leakyReLU(x,neg_scale=0.01):\n",
        "  if x > 0:\n",
        "    return x\n",
        "  else:\n",
        "    return neg_scale*x\n",
        "\n",
        "std_relu = []\n",
        "leaky_relu = []\n",
        "\n",
        "std_relu = [leakyReLU(x,neg_scale=0) for x in np.linspace(-100,100,10000)]\n",
        "leaky_relu = [leakyReLU(x,neg_scale=0.1) for x in np.linspace(-100,100,10000)]\n",
        "\n",
        "plt.plot(np.linspace(-100,100,10000),std_relu, label='standard_RELU')\n",
        "plt.plot(np.linspace(-100,100,10000),leaky_relu, label='leaky_RELU')\n",
        "plt.legend()\n",
        "plt.show()"
      ],
      "metadata": {
        "colab": {
          "base_uri": "https://localhost:8080/",
          "height": 430
        },
        "id": "HZ6Yx596jVPa",
        "outputId": "a45a4278-1323-4e7d-d132-e6cb6035a73f"
      },
      "execution_count": null,
      "outputs": [
        {
          "output_type": "display_data",
          "data": {
            "text/plain": [
              "<Figure size 640x480 with 1 Axes>"
            ],
            "image/png": "[encoded data removed]"
          },
          "metadata": {}
        }
      ]
    },
    {
      "cell_type": "markdown",
      "source": [
        "Here below I will provide you a pseudocode, as a guide, which is, however commented.\n"
      ],
      "metadata": {
        "id": "z4YbAeqDeXlm"
      }
    },
    {
      "cell_type": "code",
      "source": [
        "## GENERATOR\n",
        "\n",
        "#GENERATOR\n",
        "#g = Sequential()\n",
        "##################################################\n",
        "## Here your code: Architecture of your ML model.#\n",
        "##################################################\n",
        "#g.compile(loss='Here your code', optimizer=Here your code, metrics=['Here your code'])\n",
        "\n",
        "## DISCRIMINATOR\n",
        "#d = Sequential()\n",
        "##################################################\n",
        "## Here your code: Architecture of your ML model.#\n",
        "##################################################\n",
        "#d.compile(loss='Here your code', optimizer=Here your code, metrics=['Here your code'])\n",
        "\n",
        "## GAN\n",
        "################################################################\n",
        "## Here your code: Combine the generator and the discriminator.#\n",
        "################################################################"
      ],
      "metadata": {
        "id": "7OPipm_vjbLC"
      },
      "execution_count": null,
      "outputs": []
    },
    {
      "cell_type": "markdown",
      "source": [
        "Plot losses and generated images preiodically to monitor what the model does."
      ],
      "metadata": {
        "id": "O7GNa7BGlV2U"
      }
    },
    {
      "cell_type": "code",
      "source": [
        "## PLOT LOSS\n",
        "#def plot_loss(losses):\n",
        "#    \"\"\"\n",
        "#    @losses.keys():\n",
        "#        0: loss\n",
        "#        1: accuracy\n",
        "#    \"\"\"\n",
        "###################\n",
        "## Here your code#\n",
        "###################\n",
        "\n",
        "## PLOT GENERATED\n",
        "#def plot_generated(n_ex=10, dim=(1, 10), figsize=(12, 2)):\n",
        "#    noise = np.random.normal(0, 1, size=(n_ex, z_dim))\n",
        "#    generated_images = g.predict(noise)\n",
        "#    generated_images = generated_images.reshape(n_ex, 28, 28)\n",
        "###################\n",
        "## Here your code#\n",
        "###################"
      ],
      "metadata": {
        "id": "uQ0drHiUlcRy"
      },
      "execution_count": null,
      "outputs": []
    },
    {
      "cell_type": "markdown",
      "source": [
        "Train the model: Generate noise, feed into generator, compare them with discriminator, train the GAN and REPEAT."
      ],
      "metadata": {
        "id": "d7ogZ56OlpFT"
      }
    },
    {
      "cell_type": "code",
      "source": [
        "## TRAIN THE MODEL\n",
        "###################\n",
        "## Here your code#\n",
        "###################"
      ],
      "metadata": {
        "id": "kMJwjqvhl7nB"
      },
      "execution_count": null,
      "outputs": []
    },
    {
      "cell_type": "markdown",
      "source": [
        "## Individual technical contributions [5 Marks]\n",
        "\n",
        "Your individual report is a chance to apply critical thought to the process and lessons learned from the Coursework I. This part should contain a summary of your individual technical contributions to the project, and an appreciation of what you think you could have done better, an identification of the areas for further personal development.\n",
        "\n",
        "\n",
        "\n",
        "1.   CANDIDATE NUMBER 1: ....\n",
        "2.   CANDIDATE NUMBER 2: ....\n",
        "\n"
      ],
      "metadata": {
        "id": "pCIyVN8wtX5C"
      }
    }
  ]
}